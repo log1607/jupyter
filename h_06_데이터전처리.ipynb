{
 "cells": [
  {
   "cell_type": "markdown",
   "metadata": {},
   "source": [
    "# 데이터 전처리\n",
    "\n",
    "## 정의\n",
    "- 데이터를 분석에 사용할 때 성능이 더 좋게 나오도록 데이터를 수정하거나 형태를 변형하는 작업\n",
    "- data preprocessing\n",
    "\n",
    "<img src=\"https://raw.githubusercontent.com/data-labs/image/main/%E1%84%89%E1%85%B3%E1%84%8F%E1%85%B3%E1%84%85%E1%85%B5%E1%86%AB%E1%84%89%E1%85%A3%E1%86%BA%202021-01-07%20%E1%84%8B%E1%85%A9%E1%84%92%E1%85%AE%204.33.49.png?raw=1\" width=500  align='left'>  \n"
   ]
  },
  {
   "cell_type": "markdown",
   "metadata": {},
   "source": [
    "\n",
    "## 데이터 전처리 종류\n",
    "\n",
    "- 데이터 클리닝 - 결측치 처리, 틀린값 처리\n",
    "- 스케일링 - 여러 변수 값의 범위를 동등한 조건으로 맞추는 것: 표준 스케일링, min-max 스케일링\n",
    "- 이상치 처리 - 이상치 탐지 및 제거\n",
    "- 데이터 변환 - 로그 변환, 카테고리 인코딩 등"
   ]
  },
  {
   "cell_type": "markdown",
   "metadata": {},
   "source": [
    "# 데이터 클리닝\n",
    "\n",
    "##  결측치 처리\n",
    "- 값이 비어 있는 것을 처리하는 것 (파이썬에서는 빈 값이 nan으로 표시된다: not a number)\n",
    "- 결측치를 처리하는 방법은 크게 세 가지가 있다\n",
    " - 결측치가 포함된 샘플(행)을 버린다\n",
    " - 결측치를 적절한 값으로 대체한다\n",
    " - 결측치 처리를 다음 분석 단계로 넘긴다. 즉, 결측치를 그대로 둔다\n",
    " \n",
    "##  틀린값 처리\n",
    "- 틀린값을 처리하는 방법도 결측치를 처리하는 방법과 같이 세가지이다\n",
    " - 틀린 값이 포함된 샘플(행)을 버린다\n",
    " - 틀린 값을 적절한 값으로 대체한다\n",
    " - 틀린값 처리를 다음 분석 단계로 넘긴다. 즉, 틀린값을 그대로 둔다"
   ]
  },
  {
   "cell_type": "code",
   "execution_count": 1,
   "metadata": {
    "colab": {},
    "colab_type": "code",
    "id": "jYVCMTwISi4P"
   },
   "outputs": [],
   "source": [
    "import numpy as np\n",
    "import pandas as pd\n",
    "import matplotlib.pyplot as plt\n",
    "%matplotlib inline\n",
    "%config InlineBackend.figure_format = 'retina'"
   ]
  },
  {
   "cell_type": "code",
   "execution_count": 2,
   "metadata": {},
   "outputs": [],
   "source": [
    "# matplotlib를 이용하여 다양한 시각화 함수를 제공하는 라이브러리 seaborn\n",
    "import seaborn as sns"
   ]
  },
  {
   "cell_type": "markdown",
   "metadata": {
    "colab_type": "text",
    "id": "3WMFeQhlSi4X"
   },
   "source": [
    "## 실습 데이터\n",
    "- 키와 몸무게 데이터 생성\n",
    "- 평균 170cm, 65kg, 표준편차 4cm, 5kg"
   ]
  },
  {
   "cell_type": "code",
   "execution_count": 3,
   "metadata": {
    "colab": {},
    "colab_type": "code",
    "id": "Eb4toqHpSi4Y"
   },
   "outputs": [
    {
     "data": {
      "text/html": [
       "<div>\n",
       "<style scoped>\n",
       "    .dataframe tbody tr th:only-of-type {\n",
       "        vertical-align: middle;\n",
       "    }\n",
       "\n",
       "    .dataframe tbody tr th {\n",
       "        vertical-align: top;\n",
       "    }\n",
       "\n",
       "    .dataframe thead th {\n",
       "        text-align: right;\n",
       "    }\n",
       "</style>\n",
       "<table border=\"1\" class=\"dataframe\">\n",
       "  <thead>\n",
       "    <tr style=\"text-align: right;\">\n",
       "      <th></th>\n",
       "      <th>height</th>\n",
       "      <th>weight</th>\n",
       "    </tr>\n",
       "  </thead>\n",
       "  <tbody>\n",
       "    <tr>\n",
       "      <th>0</th>\n",
       "      <td>167.40</td>\n",
       "      <td>60.85</td>\n",
       "    </tr>\n",
       "    <tr>\n",
       "      <th>1</th>\n",
       "      <td>174.12</td>\n",
       "      <td>57.45</td>\n",
       "    </tr>\n",
       "    <tr>\n",
       "      <th>2</th>\n",
       "      <td>163.84</td>\n",
       "      <td>66.50</td>\n",
       "    </tr>\n",
       "    <tr>\n",
       "      <th>3</th>\n",
       "      <td>172.44</td>\n",
       "      <td>70.40</td>\n",
       "    </tr>\n",
       "    <tr>\n",
       "      <th>4</th>\n",
       "      <td>167.16</td>\n",
       "      <td>65.15</td>\n",
       "    </tr>\n",
       "  </tbody>\n",
       "</table>\n",
       "</div>"
      ],
      "text/plain": [
       "   height  weight\n",
       "0  167.40   60.85\n",
       "1  174.12   57.45\n",
       "2  163.84   66.50\n",
       "3  172.44   70.40\n",
       "4  167.16   65.15"
      ]
     },
     "execution_count": 3,
     "metadata": {},
     "output_type": "execute_result"
    }
   ],
   "source": [
    "n_samples = 1000\n",
    "height = 4*np.random.randn(n_samples).round(2) + 170\n",
    "weight = 5*np.random.randn(n_samples).round(2) + 65\n",
    "df_raw = pd.DataFrame({\"height\": height, \"weight\": weight})\n",
    "df_raw[:5]"
   ]
  },
  {
   "cell_type": "code",
   "execution_count": 1,
   "metadata": {},
   "outputs": [
    {
     "ename": "NameError",
     "evalue": "name 'df_raw' is not defined",
     "output_type": "error",
     "traceback": [
      "\u001b[0;31m---------------------------------------------------------------------------\u001b[0m",
      "\u001b[0;31mNameError\u001b[0m                                 Traceback (most recent call last)",
      "\u001b[0;32m<ipython-input-1-ef306e7f3351>\u001b[0m in \u001b[0;36m<module>\u001b[0;34m\u001b[0m\n\u001b[1;32m      1\u001b[0m \u001b[0;31m# 사본 사용 (원본 백업)\u001b[0m\u001b[0;34m\u001b[0m\u001b[0;34m\u001b[0m\u001b[0;34m\u001b[0m\u001b[0m\n\u001b[0;32m----> 2\u001b[0;31m \u001b[0mdf\u001b[0m \u001b[0;34m=\u001b[0m \u001b[0mdf_raw\u001b[0m\u001b[0;34m.\u001b[0m\u001b[0mcopy\u001b[0m\u001b[0;34m(\u001b[0m\u001b[0;34m)\u001b[0m\u001b[0;34m\u001b[0m\u001b[0;34m\u001b[0m\u001b[0m\n\u001b[0m",
      "\u001b[0;31mNameError\u001b[0m: name 'df_raw' is not defined"
     ]
    }
   ],
   "source": [
    "# 사본 사용 (원본 백업)\n",
    "df = df_raw.copy()"
   ]
  },
  {
   "cell_type": "code",
   "execution_count": 5,
   "metadata": {},
   "outputs": [
    {
     "data": {
      "text/plain": [
       "<matplotlib.axes._subplots.AxesSubplot at 0x7fc390d5a190>"
      ]
     },
     "execution_count": 5,
     "metadata": {},
     "output_type": "execute_result"
    },
    {
     "data": {
      "image/png": "[encoded data removed]",
      "text/plain": [
       "<Figure size 432x288 with 1 Axes>"
      ]
     },
     "metadata": {
      "image/png": {
       "height": 248,
       "width": 378
      },
      "needs_background": "light"
     },
     "output_type": "display_data"
    }
   ],
   "source": [
    "# 샘플의 확률 분포 근사 그래프 보기\n",
    "sns.distplot(df.height.values)"
   ]
  },
  {
   "cell_type": "markdown",
   "metadata": {},
   "source": [
    "## 결측치 처리 실습\n",
    "\n",
    "- 결측치 확인은 np.isnull() 사용\n",
    "- 결측치 치환은 np.fillna() 사용"
   ]
  },
  {
   "cell_type": "code",
   "execution_count": 6,
   "metadata": {},
   "outputs": [
    {
     "data": {
      "text/html": [
       "<div>\n",
       "<style scoped>\n",
       "    .dataframe tbody tr th:only-of-type {\n",
       "        vertical-align: middle;\n",
       "    }\n",
       "\n",
       "    .dataframe tbody tr th {\n",
       "        vertical-align: top;\n",
       "    }\n",
       "\n",
       "    .dataframe thead th {\n",
       "        text-align: right;\n",
       "    }\n",
       "</style>\n",
       "<table border=\"1\" class=\"dataframe\">\n",
       "  <thead>\n",
       "    <tr style=\"text-align: right;\">\n",
       "      <th></th>\n",
       "      <th>height</th>\n",
       "      <th>weight</th>\n",
       "    </tr>\n",
       "  </thead>\n",
       "  <tbody>\n",
       "    <tr>\n",
       "      <th>0</th>\n",
       "      <td>167.40</td>\n",
       "      <td>60.85</td>\n",
       "    </tr>\n",
       "    <tr>\n",
       "      <th>1</th>\n",
       "      <td>174.12</td>\n",
       "      <td>57.45</td>\n",
       "    </tr>\n",
       "    <tr>\n",
       "      <th>2</th>\n",
       "      <td>163.84</td>\n",
       "      <td>66.50</td>\n",
       "    </tr>\n",
       "    <tr>\n",
       "      <th>3</th>\n",
       "      <td>172.44</td>\n",
       "      <td>70.40</td>\n",
       "    </tr>\n",
       "    <tr>\n",
       "      <th>4</th>\n",
       "      <td>167.16</td>\n",
       "      <td>65.15</td>\n",
       "    </tr>\n",
       "  </tbody>\n",
       "</table>\n",
       "</div>"
      ],
      "text/plain": [
       "   height  weight\n",
       "0  167.40   60.85\n",
       "1  174.12   57.45\n",
       "2  163.84   66.50\n",
       "3  172.44   70.40\n",
       "4  167.16   65.15"
      ]
     },
     "execution_count": 6,
     "metadata": {},
     "output_type": "execute_result"
    }
   ],
   "source": [
    "df[:5]"
   ]
  },
  {
   "cell_type": "code",
   "execution_count": 7,
   "metadata": {},
   "outputs": [
    {
     "data": {
      "text/html": [
       "<div>\n",
       "<style scoped>\n",
       "    .dataframe tbody tr th:only-of-type {\n",
       "        vertical-align: middle;\n",
       "    }\n",
       "\n",
       "    .dataframe tbody tr th {\n",
       "        vertical-align: top;\n",
       "    }\n",
       "\n",
       "    .dataframe thead th {\n",
       "        text-align: right;\n",
       "    }\n",
       "</style>\n",
       "<table border=\"1\" class=\"dataframe\">\n",
       "  <thead>\n",
       "    <tr style=\"text-align: right;\">\n",
       "      <th></th>\n",
       "      <th>height</th>\n",
       "      <th>weight</th>\n",
       "    </tr>\n",
       "  </thead>\n",
       "  <tbody>\n",
       "    <tr>\n",
       "      <th>0</th>\n",
       "      <td>167.40</td>\n",
       "      <td>60.85</td>\n",
       "    </tr>\n",
       "    <tr>\n",
       "      <th>1</th>\n",
       "      <td>174.12</td>\n",
       "      <td>57.45</td>\n",
       "    </tr>\n",
       "    <tr>\n",
       "      <th>2</th>\n",
       "      <td>163.84</td>\n",
       "      <td>NaN</td>\n",
       "    </tr>\n",
       "    <tr>\n",
       "      <th>3</th>\n",
       "      <td>172.44</td>\n",
       "      <td>70.40</td>\n",
       "    </tr>\n",
       "    <tr>\n",
       "      <th>4</th>\n",
       "      <td>167.16</td>\n",
       "      <td>65.15</td>\n",
       "    </tr>\n",
       "  </tbody>\n",
       "</table>\n",
       "</div>"
      ],
      "text/plain": [
       "   height  weight\n",
       "0  167.40   60.85\n",
       "1  174.12   57.45\n",
       "2  163.84     NaN\n",
       "3  172.44   70.40\n",
       "4  167.16   65.15"
      ]
     },
     "execution_count": 7,
     "metadata": {},
     "output_type": "execute_result"
    }
   ],
   "source": [
    "# 임의의 값 하나를 결측치로 변경\n",
    "df['weight'][2] = np.nan\n",
    "df[:5]"
   ]
  },
  {
   "cell_type": "code",
   "execution_count": 8,
   "metadata": {},
   "outputs": [
    {
     "data": {
      "text/plain": [
       "height    0\n",
       "weight    1\n",
       "dtype: int64"
      ]
     },
     "execution_count": 8,
     "metadata": {},
     "output_type": "execute_result"
    }
   ],
   "source": [
    "# 컬럼별 결측치 갯수 보기\n",
    "df.isnull().sum()"
   ]
  },
  {
   "cell_type": "code",
   "execution_count": 9,
   "metadata": {},
   "outputs": [
    {
     "name": "stdout",
     "output_type": "stream",
     "text": [
      "(999, 2)\n"
     ]
    },
    {
     "data": {
      "text/html": [
       "<div>\n",
       "<style scoped>\n",
       "    .dataframe tbody tr th:only-of-type {\n",
       "        vertical-align: middle;\n",
       "    }\n",
       "\n",
       "    .dataframe tbody tr th {\n",
       "        vertical-align: top;\n",
       "    }\n",
       "\n",
       "    .dataframe thead th {\n",
       "        text-align: right;\n",
       "    }\n",
       "</style>\n",
       "<table border=\"1\" class=\"dataframe\">\n",
       "  <thead>\n",
       "    <tr style=\"text-align: right;\">\n",
       "      <th></th>\n",
       "      <th>height</th>\n",
       "      <th>weight</th>\n",
       "    </tr>\n",
       "  </thead>\n",
       "  <tbody>\n",
       "    <tr>\n",
       "      <th>0</th>\n",
       "      <td>167.40</td>\n",
       "      <td>60.85</td>\n",
       "    </tr>\n",
       "    <tr>\n",
       "      <th>1</th>\n",
       "      <td>174.12</td>\n",
       "      <td>57.45</td>\n",
       "    </tr>\n",
       "    <tr>\n",
       "      <th>3</th>\n",
       "      <td>172.44</td>\n",
       "      <td>70.40</td>\n",
       "    </tr>\n",
       "    <tr>\n",
       "      <th>4</th>\n",
       "      <td>167.16</td>\n",
       "      <td>65.15</td>\n",
       "    </tr>\n",
       "    <tr>\n",
       "      <th>5</th>\n",
       "      <td>176.20</td>\n",
       "      <td>56.15</td>\n",
       "    </tr>\n",
       "  </tbody>\n",
       "</table>\n",
       "</div>"
      ],
      "text/plain": [
       "   height  weight\n",
       "0  167.40   60.85\n",
       "1  174.12   57.45\n",
       "3  172.44   70.40\n",
       "4  167.16   65.15\n",
       "5  176.20   56.15"
      ]
     },
     "execution_count": 9,
     "metadata": {},
     "output_type": "execute_result"
    }
   ],
   "source": [
    "# 결측치가 있는 행(샘플) 삭제하기\n",
    "df2 = df.dropna()\n",
    "print(df2.shape)\n",
    "df2[:5]"
   ]
  },
  {
   "cell_type": "code",
   "execution_count": 10,
   "metadata": {},
   "outputs": [
    {
     "name": "stdout",
     "output_type": "stream",
     "text": [
      "(1000, 2)\n",
      "64.99269269269269\n"
     ]
    },
    {
     "data": {
      "text/html": [
       "<div>\n",
       "<style scoped>\n",
       "    .dataframe tbody tr th:only-of-type {\n",
       "        vertical-align: middle;\n",
       "    }\n",
       "\n",
       "    .dataframe tbody tr th {\n",
       "        vertical-align: top;\n",
       "    }\n",
       "\n",
       "    .dataframe thead th {\n",
       "        text-align: right;\n",
       "    }\n",
       "</style>\n",
       "<table border=\"1\" class=\"dataframe\">\n",
       "  <thead>\n",
       "    <tr style=\"text-align: right;\">\n",
       "      <th></th>\n",
       "      <th>height</th>\n",
       "      <th>weight</th>\n",
       "    </tr>\n",
       "  </thead>\n",
       "  <tbody>\n",
       "    <tr>\n",
       "      <th>0</th>\n",
       "      <td>167.40</td>\n",
       "      <td>60.850000</td>\n",
       "    </tr>\n",
       "    <tr>\n",
       "      <th>1</th>\n",
       "      <td>174.12</td>\n",
       "      <td>57.450000</td>\n",
       "    </tr>\n",
       "    <tr>\n",
       "      <th>2</th>\n",
       "      <td>163.84</td>\n",
       "      <td>64.992693</td>\n",
       "    </tr>\n",
       "    <tr>\n",
       "      <th>3</th>\n",
       "      <td>172.44</td>\n",
       "      <td>70.400000</td>\n",
       "    </tr>\n",
       "    <tr>\n",
       "      <th>4</th>\n",
       "      <td>167.16</td>\n",
       "      <td>65.150000</td>\n",
       "    </tr>\n",
       "  </tbody>\n",
       "</table>\n",
       "</div>"
      ],
      "text/plain": [
       "   height     weight\n",
       "0  167.40  60.850000\n",
       "1  174.12  57.450000\n",
       "2  163.84  64.992693\n",
       "3  172.44  70.400000\n",
       "4  167.16  65.150000"
      ]
     },
     "execution_count": 10,
     "metadata": {},
     "output_type": "execute_result"
    }
   ],
   "source": [
    "# 결측치를 다른 값으로 대체하기 (아래는 몸무게 컬럼의 평균치로 대체한 예)\n",
    "df3 = df.fillna(df['weight'].mean())\n",
    "print(df3.shape)\n",
    "print(df['weight'].mean())\n",
    "df3[:5]"
   ]
  },
  {
   "cell_type": "code",
   "execution_count": 11,
   "metadata": {},
   "outputs": [
    {
     "data": {
      "text/html": [
       "<div>\n",
       "<style scoped>\n",
       "    .dataframe tbody tr th:only-of-type {\n",
       "        vertical-align: middle;\n",
       "    }\n",
       "\n",
       "    .dataframe tbody tr th {\n",
       "        vertical-align: top;\n",
       "    }\n",
       "\n",
       "    .dataframe thead th {\n",
       "        text-align: right;\n",
       "    }\n",
       "</style>\n",
       "<table border=\"1\" class=\"dataframe\">\n",
       "  <thead>\n",
       "    <tr style=\"text-align: right;\">\n",
       "      <th></th>\n",
       "      <th>height</th>\n",
       "      <th>weight</th>\n",
       "    </tr>\n",
       "  </thead>\n",
       "  <tbody>\n",
       "    <tr>\n",
       "      <th>0</th>\n",
       "      <td>167.40</td>\n",
       "      <td>60.85</td>\n",
       "    </tr>\n",
       "    <tr>\n",
       "      <th>1</th>\n",
       "      <td>174.12</td>\n",
       "      <td>57.45</td>\n",
       "    </tr>\n",
       "    <tr>\n",
       "      <th>2</th>\n",
       "      <td>163.84</td>\n",
       "      <td>0.00</td>\n",
       "    </tr>\n",
       "    <tr>\n",
       "      <th>3</th>\n",
       "      <td>172.44</td>\n",
       "      <td>70.40</td>\n",
       "    </tr>\n",
       "    <tr>\n",
       "      <th>4</th>\n",
       "      <td>167.16</td>\n",
       "      <td>65.15</td>\n",
       "    </tr>\n",
       "  </tbody>\n",
       "</table>\n",
       "</div>"
      ],
      "text/plain": [
       "   height  weight\n",
       "0  167.40   60.85\n",
       "1  174.12   57.45\n",
       "2  163.84    0.00\n",
       "3  172.44   70.40\n",
       "4  167.16   65.15"
      ]
     },
     "execution_count": 11,
     "metadata": {},
     "output_type": "execute_result"
    }
   ],
   "source": [
    "# 결측치를 0으로 대체하는 경우\n",
    "df.fillna(0)[:5]"
   ]
  },
  {
   "cell_type": "code",
   "execution_count": 12,
   "metadata": {},
   "outputs": [
    {
     "data": {
      "text/html": [
       "<div>\n",
       "<style scoped>\n",
       "    .dataframe tbody tr th:only-of-type {\n",
       "        vertical-align: middle;\n",
       "    }\n",
       "\n",
       "    .dataframe tbody tr th {\n",
       "        vertical-align: top;\n",
       "    }\n",
       "\n",
       "    .dataframe thead th {\n",
       "        text-align: right;\n",
       "    }\n",
       "</style>\n",
       "<table border=\"1\" class=\"dataframe\">\n",
       "  <thead>\n",
       "    <tr style=\"text-align: right;\">\n",
       "      <th></th>\n",
       "      <th>height</th>\n",
       "      <th>weight</th>\n",
       "    </tr>\n",
       "  </thead>\n",
       "  <tbody>\n",
       "    <tr>\n",
       "      <th>0</th>\n",
       "      <td>167.40</td>\n",
       "      <td>60.85</td>\n",
       "    </tr>\n",
       "    <tr>\n",
       "      <th>1</th>\n",
       "      <td>174.12</td>\n",
       "      <td>57.45</td>\n",
       "    </tr>\n",
       "    <tr>\n",
       "      <th>2</th>\n",
       "      <td>163.84</td>\n",
       "      <td>57.45</td>\n",
       "    </tr>\n",
       "    <tr>\n",
       "      <th>3</th>\n",
       "      <td>172.44</td>\n",
       "      <td>70.40</td>\n",
       "    </tr>\n",
       "    <tr>\n",
       "      <th>4</th>\n",
       "      <td>167.16</td>\n",
       "      <td>65.15</td>\n",
       "    </tr>\n",
       "  </tbody>\n",
       "</table>\n",
       "</div>"
      ],
      "text/plain": [
       "   height  weight\n",
       "0  167.40   60.85\n",
       "1  174.12   57.45\n",
       "2  163.84   57.45\n",
       "3  172.44   70.40\n",
       "4  167.16   65.15"
      ]
     },
     "execution_count": 12,
     "metadata": {},
     "output_type": "execute_result"
    }
   ],
   "source": [
    "# 결측치를 바로 이전 값으로 대체하는 경우 (forward fill)\n",
    "df.fillna(method=\"ffill\")[:5]"
   ]
  },
  {
   "cell_type": "markdown",
   "metadata": {
    "colab_type": "text",
    "id": "s5EMGUtTSi5T"
   },
   "source": [
    "# 스케일링\n",
    "- 여러 변수 값의 범위가 서로 다른 경우 데이터 분석에서 동일한 비중으로 반영하기 위해서는 동일한 범위를 갖도록 변환해야 한다 (예: 과목 성적 100점 만점으로 환산)\n",
    "- 표준 스케일링을 가장 많이 사용한다 (평균이 0, 표준편차가 1이 되도록 변환)\n",
    "- 값의 최소치와 최대치가 정해진 경우는 min-max 스케링일도 자주 사용된다 (최소치를 0으로, 최대치를 1로)\n",
    "\n",
    "## 표준 스케일링\n",
    "\n",
    "\n",
    "<img src=\"https://raw.githubusercontent.com/data-labs/image/main/%E1%84%89%E1%85%B3%E1%84%8F%E1%85%B3%E1%84%85%E1%85%B5%E1%86%AB%E1%84%89%E1%85%A3%E1%86%BA%202021-01-05%20%E1%84%8B%E1%85%A9%E1%84%92%E1%85%AE%208.52.14.png?raw=1\" width=140  align='left'>"
   ]
  },
  {
   "cell_type": "code",
   "execution_count": 13,
   "metadata": {
    "colab": {},
    "colab_type": "code",
    "id": "J7Agg1zSSi5Y",
    "outputId": "fafab2eb-514c-443d-d8e3-043d51796ce1"
   },
   "outputs": [
    {
     "data": {
      "text/html": [
       "<div>\n",
       "<style scoped>\n",
       "    .dataframe tbody tr th:only-of-type {\n",
       "        vertical-align: middle;\n",
       "    }\n",
       "\n",
       "    .dataframe tbody tr th {\n",
       "        vertical-align: top;\n",
       "    }\n",
       "\n",
       "    .dataframe thead th {\n",
       "        text-align: right;\n",
       "    }\n",
       "</style>\n",
       "<table border=\"1\" class=\"dataframe\">\n",
       "  <thead>\n",
       "    <tr style=\"text-align: right;\">\n",
       "      <th></th>\n",
       "      <th>height</th>\n",
       "      <th>weight</th>\n",
       "      <th>h_sc</th>\n",
       "      <th>w_sc</th>\n",
       "    </tr>\n",
       "  </thead>\n",
       "  <tbody>\n",
       "    <tr>\n",
       "      <th>0</th>\n",
       "      <td>167.40</td>\n",
       "      <td>60.85</td>\n",
       "      <td>-0.631544</td>\n",
       "      <td>-0.853114</td>\n",
       "    </tr>\n",
       "    <tr>\n",
       "      <th>1</th>\n",
       "      <td>174.12</td>\n",
       "      <td>57.45</td>\n",
       "      <td>1.043162</td>\n",
       "      <td>-1.553029</td>\n",
       "    </tr>\n",
       "    <tr>\n",
       "      <th>2</th>\n",
       "      <td>163.84</td>\n",
       "      <td>66.50</td>\n",
       "      <td>-1.518739</td>\n",
       "      <td>0.309980</td>\n",
       "    </tr>\n",
       "    <tr>\n",
       "      <th>3</th>\n",
       "      <td>172.44</td>\n",
       "      <td>70.40</td>\n",
       "      <td>0.624486</td>\n",
       "      <td>1.112824</td>\n",
       "    </tr>\n",
       "    <tr>\n",
       "      <th>4</th>\n",
       "      <td>167.16</td>\n",
       "      <td>65.15</td>\n",
       "      <td>-0.691355</td>\n",
       "      <td>0.032073</td>\n",
       "    </tr>\n",
       "  </tbody>\n",
       "</table>\n",
       "</div>"
      ],
      "text/plain": [
       "   height  weight      h_sc      w_sc\n",
       "0  167.40   60.85 -0.631544 -0.853114\n",
       "1  174.12   57.45  1.043162 -1.553029\n",
       "2  163.84   66.50 -1.518739  0.309980\n",
       "3  172.44   70.40  0.624486  1.112824\n",
       "4  167.16   65.15 -0.691355  0.032073"
      ]
     },
     "execution_count": 13,
     "metadata": {},
     "output_type": "execute_result"
    }
   ],
   "source": [
    "# 키, 몸무게 데이터를 각각 표준 스케일링한 후 컬럼에 추가\n",
    "df = df_raw.copy() # 백업 데이터 사용 (결측치 없는)\n",
    "from sklearn.preprocessing import StandardScaler\n",
    "scale = StandardScaler()\n",
    "df[['h_sc','w_sc']]=scale.fit_transform(df[['height','weight']])\n",
    "df[:5]"
   ]
  },
  {
   "cell_type": "code",
   "execution_count": 14,
   "metadata": {},
   "outputs": [
    {
     "data": {
      "text/plain": [
       "(array([169.93416,  64.9942 ]), array([4.01264455, 4.85773264]))"
      ]
     },
     "execution_count": 14,
     "metadata": {},
     "output_type": "execute_result"
    }
   ],
   "source": [
    "scale.mean_, scale.scale_"
   ]
  },
  {
   "cell_type": "markdown",
   "metadata": {},
   "source": [
    "### 스케일링 이전의 원래 값으로 환원하는 방법\n",
    "- inverse_transform을 사용한다"
   ]
  },
  {
   "cell_type": "code",
   "execution_count": 15,
   "metadata": {},
   "outputs": [
    {
     "data": {
      "text/plain": [
       "array([[167.4 ,  60.85],\n",
       "       [174.12,  57.45],\n",
       "       [163.84,  66.5 ],\n",
       "       [172.44,  70.4 ],\n",
       "       [167.16,  65.15]])"
      ]
     },
     "execution_count": 15,
     "metadata": {},
     "output_type": "execute_result"
    }
   ],
   "source": [
    "# 원래 값 보기\n",
    "scale.inverse_transform(df[[\"h_sc\",\"w_sc\"]])[:5]"
   ]
  },
  {
   "cell_type": "markdown",
   "metadata": {},
   "source": [
    "### 데이터 분포 보기"
   ]
  },
  {
   "cell_type": "code",
   "execution_count": 16,
   "metadata": {},
   "outputs": [
    {
     "data": {
      "text/plain": [
       "<matplotlib.axes._subplots.AxesSubplot at 0x7fc3940cd8d0>"
      ]
     },
     "execution_count": 16,
     "metadata": {},
     "output_type": "execute_result"
    },
    {
     "data": {
      "image/png": "[encoded data removed]",
      "text/plain": [
       "<Figure size 432x288 with 1 Axes>"
      ]
     },
     "metadata": {
      "image/png": {
       "height": 251,
       "width": 394
      },
      "needs_background": "light"
     },
     "output_type": "display_data"
    }
   ],
   "source": [
    "# 원래 키, 몸무게의 데이터의 확률 분포 보기 (kernel density estimate 함수 사용)\n",
    "df[[\"height\",\"weight\"]].plot.kde()"
   ]
  },
  {
   "cell_type": "code",
   "execution_count": 17,
   "metadata": {
    "colab": {
     "base_uri": "https://localhost:8080/",
     "height": 282
    },
    "colab_type": "code",
    "id": "4A3J5DmBLuaf",
    "outputId": "fe0c2696-b47e-4e28-c486-90a7cc74b4aa"
   },
   "outputs": [
    {
     "data": {
      "text/plain": [
       "<matplotlib.axes._subplots.AxesSubplot at 0x7fc3966c3d50>"
      ]
     },
     "execution_count": 17,
     "metadata": {},
     "output_type": "execute_result"
    },
    {
     "data": {
      "image/png": "[encoded data removed]",
      "text/plain": [
       "<Figure size 432x288 with 1 Axes>"
      ]
     },
     "metadata": {
      "image/png": {
       "height": 248,
       "width": 385
      },
      "needs_background": "light"
     },
     "output_type": "display_data"
    }
   ],
   "source": [
    "# 표준 스케일링된 데이터의 확률 분포 보기 - 정규분포로 생성했다\n",
    "df[[\"h_sc\",\"w_sc\"]].plot.kde()"
   ]
  },
  {
   "cell_type": "markdown",
   "metadata": {
    "colab_type": "text",
    "id": "xVbFh3mVSi5i"
   },
   "source": [
    "## Min-Max 스케일링\n",
    "- 데이터의 최소값이 0, 최대값이 1이 되도록 조정"
   ]
  },
  {
   "cell_type": "code",
   "execution_count": 18,
   "metadata": {
    "colab": {},
    "colab_type": "code",
    "id": "32f_JOaeLua3"
   },
   "outputs": [
    {
     "data": {
      "text/html": [
       "<div>\n",
       "<style scoped>\n",
       "    .dataframe tbody tr th:only-of-type {\n",
       "        vertical-align: middle;\n",
       "    }\n",
       "\n",
       "    .dataframe tbody tr th {\n",
       "        vertical-align: top;\n",
       "    }\n",
       "\n",
       "    .dataframe thead th {\n",
       "        text-align: right;\n",
       "    }\n",
       "</style>\n",
       "<table border=\"1\" class=\"dataframe\">\n",
       "  <thead>\n",
       "    <tr style=\"text-align: right;\">\n",
       "      <th></th>\n",
       "      <th>height</th>\n",
       "      <th>weight</th>\n",
       "      <th>h_sc</th>\n",
       "      <th>w_sc</th>\n",
       "      <th>h_mima</th>\n",
       "      <th>w_mima</th>\n",
       "    </tr>\n",
       "  </thead>\n",
       "  <tbody>\n",
       "    <tr>\n",
       "      <th>0</th>\n",
       "      <td>167.40</td>\n",
       "      <td>60.85</td>\n",
       "      <td>-0.631544</td>\n",
       "      <td>-0.853114</td>\n",
       "      <td>0.435821</td>\n",
       "      <td>0.388693</td>\n",
       "    </tr>\n",
       "    <tr>\n",
       "      <th>1</th>\n",
       "      <td>174.12</td>\n",
       "      <td>57.45</td>\n",
       "      <td>1.043162</td>\n",
       "      <td>-1.553029</td>\n",
       "      <td>0.686567</td>\n",
       "      <td>0.268551</td>\n",
       "    </tr>\n",
       "    <tr>\n",
       "      <th>2</th>\n",
       "      <td>163.84</td>\n",
       "      <td>66.50</td>\n",
       "      <td>-1.518739</td>\n",
       "      <td>0.309980</td>\n",
       "      <td>0.302985</td>\n",
       "      <td>0.588339</td>\n",
       "    </tr>\n",
       "    <tr>\n",
       "      <th>3</th>\n",
       "      <td>172.44</td>\n",
       "      <td>70.40</td>\n",
       "      <td>0.624486</td>\n",
       "      <td>1.112824</td>\n",
       "      <td>0.623881</td>\n",
       "      <td>0.726148</td>\n",
       "    </tr>\n",
       "    <tr>\n",
       "      <th>4</th>\n",
       "      <td>167.16</td>\n",
       "      <td>65.15</td>\n",
       "      <td>-0.691355</td>\n",
       "      <td>0.032073</td>\n",
       "      <td>0.426866</td>\n",
       "      <td>0.540636</td>\n",
       "    </tr>\n",
       "  </tbody>\n",
       "</table>\n",
       "</div>"
      ],
      "text/plain": [
       "   height  weight      h_sc      w_sc    h_mima    w_mima\n",
       "0  167.40   60.85 -0.631544 -0.853114  0.435821  0.388693\n",
       "1  174.12   57.45  1.043162 -1.553029  0.686567  0.268551\n",
       "2  163.84   66.50 -1.518739  0.309980  0.302985  0.588339\n",
       "3  172.44   70.40  0.624486  1.112824  0.623881  0.726148\n",
       "4  167.16   65.15 -0.691355  0.032073  0.426866  0.540636"
      ]
     },
     "execution_count": 18,
     "metadata": {},
     "output_type": "execute_result"
    }
   ],
   "source": [
    "from sklearn.preprocessing import MinMaxScaler\n",
    "minmax = MinMaxScaler()\n",
    "df[['h_mima','w_mima']]=minmax.fit_transform(df[['height','weight']])\n",
    "df[:5]"
   ]
  },
  {
   "cell_type": "code",
   "execution_count": 19,
   "metadata": {},
   "outputs": [
    {
     "data": {
      "text/plain": [
       "<matplotlib.axes._subplots.AxesSubplot at 0x7fc3968f0150>"
      ]
     },
     "execution_count": 19,
     "metadata": {},
     "output_type": "execute_result"
    },
    {
     "data": {
      "image/png": "[encoded data removed]",
      "text/plain": [
       "<Figure size 432x288 with 1 Axes>"
      ]
     },
     "metadata": {
      "image/png": {
       "height": 248,
       "width": 385
      },
      "needs_background": "light"
     },
     "output_type": "display_data"
    }
   ],
   "source": [
    "# min-max 스케일링 된 데이터의 확률 분포\n",
    "df[[\"h_mima\",\"w_mima\"]].plot.kde()"
   ]
  },
  {
   "cell_type": "markdown",
   "metadata": {},
   "source": [
    "- 위의 결과를 보면 표준 스케일링과 min-max 스케일링이 별 차이가 없다\n",
    "- 그러나 이상치가 있을 때는 두 스케일링 결과 값의 변화 정도가 크게 다르다"
   ]
  },
  {
   "cell_type": "code",
   "execution_count": 20,
   "metadata": {},
   "outputs": [],
   "source": [
    "# 이상치가 포함된 키 데이터 생성: height_1\n",
    "# 첫번째 샘플의 키 값을 임의로 2m로 변경 (200)\n",
    "height_1 = height.copy()\n",
    "height_1[0] = 200"
   ]
  },
  {
   "cell_type": "code",
   "execution_count": 21,
   "metadata": {},
   "outputs": [
    {
     "data": {
      "text/html": [
       "<div>\n",
       "<style scoped>\n",
       "    .dataframe tbody tr th:only-of-type {\n",
       "        vertical-align: middle;\n",
       "    }\n",
       "\n",
       "    .dataframe tbody tr th {\n",
       "        vertical-align: top;\n",
       "    }\n",
       "\n",
       "    .dataframe thead th {\n",
       "        text-align: right;\n",
       "    }\n",
       "</style>\n",
       "<table border=\"1\" class=\"dataframe\">\n",
       "  <thead>\n",
       "    <tr style=\"text-align: right;\">\n",
       "      <th></th>\n",
       "      <th>height</th>\n",
       "      <th>weight</th>\n",
       "      <th>h_sc</th>\n",
       "      <th>w_sc</th>\n",
       "      <th>h_mima</th>\n",
       "      <th>w_mima</th>\n",
       "      <th>height_1</th>\n",
       "    </tr>\n",
       "  </thead>\n",
       "  <tbody>\n",
       "    <tr>\n",
       "      <th>0</th>\n",
       "      <td>167.40</td>\n",
       "      <td>60.85</td>\n",
       "      <td>-0.631544</td>\n",
       "      <td>-0.853114</td>\n",
       "      <td>0.435821</td>\n",
       "      <td>0.388693</td>\n",
       "      <td>200.00</td>\n",
       "    </tr>\n",
       "    <tr>\n",
       "      <th>1</th>\n",
       "      <td>174.12</td>\n",
       "      <td>57.45</td>\n",
       "      <td>1.043162</td>\n",
       "      <td>-1.553029</td>\n",
       "      <td>0.686567</td>\n",
       "      <td>0.268551</td>\n",
       "      <td>174.12</td>\n",
       "    </tr>\n",
       "    <tr>\n",
       "      <th>2</th>\n",
       "      <td>163.84</td>\n",
       "      <td>66.50</td>\n",
       "      <td>-1.518739</td>\n",
       "      <td>0.309980</td>\n",
       "      <td>0.302985</td>\n",
       "      <td>0.588339</td>\n",
       "      <td>163.84</td>\n",
       "    </tr>\n",
       "  </tbody>\n",
       "</table>\n",
       "</div>"
      ],
      "text/plain": [
       "   height  weight      h_sc      w_sc    h_mima    w_mima  height_1\n",
       "0  167.40   60.85 -0.631544 -0.853114  0.435821  0.388693    200.00\n",
       "1  174.12   57.45  1.043162 -1.553029  0.686567  0.268551    174.12\n",
       "2  163.84   66.50 -1.518739  0.309980  0.302985  0.588339    163.84"
      ]
     },
     "execution_count": 21,
     "metadata": {},
     "output_type": "execute_result"
    }
   ],
   "source": [
    "df[\"height_1\"] = height_1\n",
    "df[:3]"
   ]
  },
  {
   "cell_type": "code",
   "execution_count": 22,
   "metadata": {},
   "outputs": [
    {
     "data": {
      "text/html": [
       "<div>\n",
       "<style scoped>\n",
       "    .dataframe tbody tr th:only-of-type {\n",
       "        vertical-align: middle;\n",
       "    }\n",
       "\n",
       "    .dataframe tbody tr th {\n",
       "        vertical-align: top;\n",
       "    }\n",
       "\n",
       "    .dataframe thead th {\n",
       "        text-align: right;\n",
       "    }\n",
       "</style>\n",
       "<table border=\"1\" class=\"dataframe\">\n",
       "  <thead>\n",
       "    <tr style=\"text-align: right;\">\n",
       "      <th></th>\n",
       "      <th>height</th>\n",
       "      <th>weight</th>\n",
       "      <th>h_sc</th>\n",
       "      <th>w_sc</th>\n",
       "      <th>h_mima</th>\n",
       "      <th>w_mima</th>\n",
       "      <th>height_1</th>\n",
       "      <th>h_1_sc</th>\n",
       "    </tr>\n",
       "  </thead>\n",
       "  <tbody>\n",
       "    <tr>\n",
       "      <th>0</th>\n",
       "      <td>167.40</td>\n",
       "      <td>60.85</td>\n",
       "      <td>-0.631544</td>\n",
       "      <td>-0.853114</td>\n",
       "      <td>0.435821</td>\n",
       "      <td>0.388693</td>\n",
       "      <td>200.00</td>\n",
       "      <td>7.284605</td>\n",
       "    </tr>\n",
       "    <tr>\n",
       "      <th>1</th>\n",
       "      <td>174.12</td>\n",
       "      <td>57.45</td>\n",
       "      <td>1.043162</td>\n",
       "      <td>-1.553029</td>\n",
       "      <td>0.686567</td>\n",
       "      <td>0.268551</td>\n",
       "      <td>174.12</td>\n",
       "      <td>1.007374</td>\n",
       "    </tr>\n",
       "    <tr>\n",
       "      <th>2</th>\n",
       "      <td>163.84</td>\n",
       "      <td>66.50</td>\n",
       "      <td>-1.518739</td>\n",
       "      <td>0.309980</td>\n",
       "      <td>0.302985</td>\n",
       "      <td>0.588339</td>\n",
       "      <td>163.84</td>\n",
       "      <td>-1.486054</td>\n",
       "    </tr>\n",
       "  </tbody>\n",
       "</table>\n",
       "</div>"
      ],
      "text/plain": [
       "   height  weight      h_sc      w_sc    h_mima    w_mima  height_1    h_1_sc\n",
       "0  167.40   60.85 -0.631544 -0.853114  0.435821  0.388693    200.00  7.284605\n",
       "1  174.12   57.45  1.043162 -1.553029  0.686567  0.268551    174.12  1.007374\n",
       "2  163.84   66.50 -1.518739  0.309980  0.302985  0.588339    163.84 -1.486054"
      ]
     },
     "execution_count": 22,
     "metadata": {},
     "output_type": "execute_result"
    }
   ],
   "source": [
    "# 이상치가 포함된 데이터(컬럼)에 표준 스케일링을 적용\n",
    "df['h_1_sc']=scale.fit_transform(df[['height_1']])\n",
    "df[:3]"
   ]
  },
  {
   "cell_type": "code",
   "execution_count": 23,
   "metadata": {},
   "outputs": [
    {
     "data": {
      "text/plain": [
       "<matplotlib.axes._subplots.AxesSubplot at 0x7fc396137290>"
      ]
     },
     "execution_count": 23,
     "metadata": {},
     "output_type": "execute_result"
    },
    {
     "data": {
      "image/png": "[encoded data removed]",
      "text/plain": [
       "<Figure size 432x288 with 1 Axes>"
      ]
     },
     "metadata": {
      "image/png": {
       "height": 248,
       "width": 392
      },
      "needs_background": "light"
     },
     "output_type": "display_data"
    }
   ],
   "source": [
    "# 이상치가 있더라도 \"표준 스케일링\" 데이터의 다른 값의 분포는 거의 변화가 없다\n",
    "# 한 샘플 추가로 인해 전체 평균과 표준편차가 거의 변하지 않으므로\n",
    "df[['h_sc','h_1_sc']].plot.kde()"
   ]
  },
  {
   "cell_type": "code",
   "execution_count": 24,
   "metadata": {
    "scrolled": true
   },
   "outputs": [
    {
     "data": {
      "text/html": [
       "<div>\n",
       "<style scoped>\n",
       "    .dataframe tbody tr th:only-of-type {\n",
       "        vertical-align: middle;\n",
       "    }\n",
       "\n",
       "    .dataframe tbody tr th {\n",
       "        vertical-align: top;\n",
       "    }\n",
       "\n",
       "    .dataframe thead th {\n",
       "        text-align: right;\n",
       "    }\n",
       "</style>\n",
       "<table border=\"1\" class=\"dataframe\">\n",
       "  <thead>\n",
       "    <tr style=\"text-align: right;\">\n",
       "      <th></th>\n",
       "      <th>height</th>\n",
       "      <th>weight</th>\n",
       "      <th>h_sc</th>\n",
       "      <th>w_sc</th>\n",
       "      <th>h_mima</th>\n",
       "      <th>w_mima</th>\n",
       "      <th>height_1</th>\n",
       "      <th>h_1_sc</th>\n",
       "      <th>h_1_mima</th>\n",
       "    </tr>\n",
       "  </thead>\n",
       "  <tbody>\n",
       "    <tr>\n",
       "      <th>0</th>\n",
       "      <td>167.40</td>\n",
       "      <td>60.85</td>\n",
       "      <td>-0.631544</td>\n",
       "      <td>-0.853114</td>\n",
       "      <td>0.435821</td>\n",
       "      <td>0.388693</td>\n",
       "      <td>200.00</td>\n",
       "      <td>7.284605</td>\n",
       "      <td>1.000000</td>\n",
       "    </tr>\n",
       "    <tr>\n",
       "      <th>1</th>\n",
       "      <td>174.12</td>\n",
       "      <td>57.45</td>\n",
       "      <td>1.043162</td>\n",
       "      <td>-1.553029</td>\n",
       "      <td>0.686567</td>\n",
       "      <td>0.268551</td>\n",
       "      <td>174.12</td>\n",
       "      <td>1.007374</td>\n",
       "      <td>0.415537</td>\n",
       "    </tr>\n",
       "    <tr>\n",
       "      <th>2</th>\n",
       "      <td>163.84</td>\n",
       "      <td>66.50</td>\n",
       "      <td>-1.518739</td>\n",
       "      <td>0.309980</td>\n",
       "      <td>0.302985</td>\n",
       "      <td>0.588339</td>\n",
       "      <td>163.84</td>\n",
       "      <td>-1.486054</td>\n",
       "      <td>0.183379</td>\n",
       "    </tr>\n",
       "  </tbody>\n",
       "</table>\n",
       "</div>"
      ],
      "text/plain": [
       "   height  weight      h_sc      w_sc    h_mima    w_mima  height_1    h_1_sc  \\\n",
       "0  167.40   60.85 -0.631544 -0.853114  0.435821  0.388693    200.00  7.284605   \n",
       "1  174.12   57.45  1.043162 -1.553029  0.686567  0.268551    174.12  1.007374   \n",
       "2  163.84   66.50 -1.518739  0.309980  0.302985  0.588339    163.84 -1.486054   \n",
       "\n",
       "   h_1_mima  \n",
       "0  1.000000  \n",
       "1  0.415537  \n",
       "2  0.183379  "
      ]
     },
     "execution_count": 24,
     "metadata": {},
     "output_type": "execute_result"
    }
   ],
   "source": [
    "# 이상치가 있는 데이터에 nim-max 스케일링을 적용\n",
    "df['h_1_mima']=minmax.fit_transform(df[['height_1']])\n",
    "df[:3]"
   ]
  },
  {
   "cell_type": "code",
   "execution_count": 25,
   "metadata": {},
   "outputs": [
    {
     "data": {
      "text/plain": [
       "<matplotlib.axes._subplots.AxesSubplot at 0x7fc396d3fbd0>"
      ]
     },
     "execution_count": 25,
     "metadata": {},
     "output_type": "execute_result"
    },
    {
     "data": {
      "image/png": "[encoded data removed]",
      "text/plain": [
       "<Figure size 432x288 with 1 Axes>"
      ]
     },
     "metadata": {
      "image/png": {
       "height": 248,
       "width": 376
      },
      "needs_background": "light"
     },
     "output_type": "display_data"
    }
   ],
   "source": [
    "# 이상치 하나 때문에 min-max 스케일링 데이터의 다른 값들이 크게 달라진다\n",
    "# 크거나 작은 단 한개의 샘플 추가로도 다른 샘플들의 값이 크게 달라질 수 있다\n",
    "# 여기서는 200인 키의 값이 1로 환산되었다\n",
    "\n",
    "df[['h_mima','h_1_mima']].plot.kde()"
   ]
  },
  {
   "cell_type": "markdown",
   "metadata": {},
   "source": [
    "# 이상치 처리\n",
    "- 이상치 처리의 목적은 두가지 이다\n",
    " - 1) 이상치를 제거하여 데이터 분석의 정확도를 높이려는 경우\n",
    " - 2) 이상치를 찾는 것 자체가 목적인 경우 (outlier detection)  \n",
    " \n",
    "- 아래는 모두 같은 상관계수를 같는 데이터 셋이다\n",
    "\n",
    "<img src=\"https://raw.githubusercontent.com/data-labs/image/main/%E1%84%89%E1%85%B3%E1%84%8F%E1%85%B3%E1%84%85%E1%85%B5%E1%86%AB%E1%84%89%E1%85%A3%E1%86%BA%202021-01-03%20%E1%84%8B%E1%85%A9%E1%84%92%E1%85%AE%201.47.02.png?raw=1\" width=400 align='left'>"
   ]
  },
  {
   "cell_type": "markdown",
   "metadata": {},
   "source": [
    "## 이상치 탐지\n",
    " - boxplot()을 보면 이상치 존재를 파악하기 쉽다\n",
    " - 표준 스케일링 한 후 값이 큰 것들 (예 6 이상)을 찾는 방법이 일반적이다"
   ]
  },
  {
   "cell_type": "code",
   "execution_count": 26,
   "metadata": {},
   "outputs": [
    {
     "data": {
      "text/plain": [
       "<matplotlib.axes._subplots.AxesSubplot at 0x7fc396f7d9d0>"
      ]
     },
     "execution_count": 26,
     "metadata": {},
     "output_type": "execute_result"
    },
    {
     "data": {
      "image/png": "[encoded data removed]",
      "text/plain": [
       "<Figure size 432x288 with 1 Axes>"
      ]
     },
     "metadata": {
      "image/png": {
       "height": 248,
       "width": 375
      },
      "needs_background": "light"
     },
     "output_type": "display_data"
    }
   ],
   "source": [
    "# 이상치가 없는 경우와 있는 경우의 박스 플롯\n",
    "df[[\"height\", \"height_1\"]].boxplot()"
   ]
  },
  {
   "cell_type": "code",
   "execution_count": 27,
   "metadata": {},
   "outputs": [
    {
     "data": {
      "text/plain": [
       "<matplotlib.axes._subplots.AxesSubplot at 0x7fc397198810>"
      ]
     },
     "execution_count": 27,
     "metadata": {},
     "output_type": "execute_result"
    },
    {
     "data": {
      "image/png": "[encoded data removed]",
      "text/plain": [
       "<Figure size 432x288 with 1 Axes>"
      ]
     },
     "metadata": {
      "image/png": {
       "height": 248,
       "width": 370
      },
      "needs_background": "light"
     },
     "output_type": "display_data"
    }
   ],
   "source": [
    "# 스케일링된 데이터를 비교하기 (키 2m인 사람은 7 시그마 밖에 존재: 4cm x 7 = 28cm)\n",
    "df[[\"h_sc\", \"h_1_sc\"]].boxplot()"
   ]
  },
  {
   "cell_type": "markdown",
   "metadata": {},
   "source": [
    "# 데이터 변환\n",
    "## 로그 변환\n",
    "\n",
    "- 어떤 변수는 로그를 취해야 입출력 관계에서 선형적인 변화(효과)를 표현하는 경우가 있다\n",
    "- 예: 돈, 생물학적 자극과 반응 관계 (청각, 미각, 후각, 압력 등)\n",
    "- 데이터 분석에서는 입출력 관계가 선형적일 때 가장 잘 예측할 수 있다 (선형적일수록 예측이 잘 된다)"
   ]
  },
  {
   "cell_type": "code",
   "execution_count": 28,
   "metadata": {},
   "outputs": [
    {
     "data": {
      "text/plain": [
       "[<matplotlib.lines.Line2D at 0x7fc3973dd5d0>]"
      ]
     },
     "execution_count": 28,
     "metadata": {},
     "output_type": "execute_result"
    },
    {
     "data": {
      "image/png": "[encoded data removed]",
      "text/plain": [
       "<Figure size 432x288 with 1 Axes>"
      ]
     },
     "metadata": {
      "image/png": {
       "height": 248,
       "width": 376
      },
      "needs_background": "light"
     },
     "output_type": "display_data"
    }
   ],
   "source": [
    "# 돈의 수입과 만족도의 관계는 대체로 로그 함수를 따른다 (생물학적 반응)\n",
    "# (해석) 로그 함수의 기울기는 1/x 이다. 즉 만족도 증가는 현재 가진 돈의 크기에 반비례한다\n",
    "x = np.linspace(1,1000000, 200)\n",
    "y = np.log(x)\n",
    "plt.plot(x,y)"
   ]
  },
  {
   "cell_type": "code",
   "execution_count": 29,
   "metadata": {
    "scrolled": true
   },
   "outputs": [
    {
     "data": {
      "text/plain": [
       "[<matplotlib.lines.Line2D at 0x7fc3975ab610>]"
      ]
     },
     "execution_count": 29,
     "metadata": {},
     "output_type": "execute_result"
    },
    {
     "data": {
      "image/png": "[encoded data removed]",
      "text/plain": [
       "<Figure size 432x288 with 1 Axes>"
      ]
     },
     "metadata": {
      "image/png": {
       "height": 249,
       "width": 369
      },
      "needs_background": "light"
     },
     "output_type": "display_data"
    }
   ],
   "source": [
    "# x 축을 로그 스케일로 그리면 (로그를 취하면) 입출력 관계가 선형적이 된다\n",
    "plt.xscale('log')\n",
    "plt.plot(x,y)"
   ]
  },
  {
   "cell_type": "markdown",
   "metadata": {},
   "source": [
    "### log-normal 분포\n",
    "\n",
    "- 어떤 값에 로그를 취하면 정규분포를 갖는 특성의 데이터 (예: 국가별 수출액 분포)\n",
    "\n",
    "\n",
    "<img src=\"https://raw.githubusercontent.com/data-labs/image/main/%E1%84%89%E1%85%B3%E1%84%8F%E1%85%B3%E1%84%85%E1%85%B5%E1%86%AB%E1%84%89%E1%85%A3%E1%86%BA%202021-01-03%20%E1%84%8B%E1%85%A9%E1%84%92%E1%85%AE%201.49.30.png?raw=1\" width=400 align='left'>"
   ]
  },
  {
   "cell_type": "markdown",
   "metadata": {},
   "source": [
    "## 카테고리 인코딩\n",
    "\n",
    "- 연속형 숫자 데이터를 카테고리형(범주형)으로 바꾸는 것\n",
    "- (예) 시험점수, 등수 차이만으로는 학생의 실력 차이를 파악하기 어렵다\n",
    " - 3점 차이\n",
    " - 3등 차이\n",
    " - 3등급 차이 (등급 차이는 실력차이를 선형적으로 표현한다)\n",
    "\n",
    "- 입력 값의 변화가 선형적(linear)인 효과를 나타낼 때 예측에 도움이 된다\n",
    "- 내신성적 9등급제는 정규분포를 0.5 시그마 간격으로 (등간격으로) 나눈 것 (총 4.5 시그마 범위)\n",
    "\n",
    "\n",
    "<img src=\"https://raw.githubusercontent.com/data-labs/image/main/%E1%84%89%E1%85%B3%E1%84%8F%E1%85%B3%E1%84%85%E1%85%B5%E1%86%AB%E1%84%89%E1%85%A3%E1%86%BA%202021-01-03%20%E1%84%8B%E1%85%A9%E1%84%92%E1%85%AE%201.48.55.png?raw=1\" width=400 align='left'>"
   ]
  },
  {
   "cell_type": "markdown",
   "metadata": {},
   "source": [
    "### 키의 등급 나누기"
   ]
  },
  {
   "cell_type": "code",
   "execution_count": 30,
   "metadata": {},
   "outputs": [
    {
     "data": {
      "text/html": [
       "<div>\n",
       "<style scoped>\n",
       "    .dataframe tbody tr th:only-of-type {\n",
       "        vertical-align: middle;\n",
       "    }\n",
       "\n",
       "    .dataframe tbody tr th {\n",
       "        vertical-align: top;\n",
       "    }\n",
       "\n",
       "    .dataframe thead th {\n",
       "        text-align: right;\n",
       "    }\n",
       "</style>\n",
       "<table border=\"1\" class=\"dataframe\">\n",
       "  <thead>\n",
       "    <tr style=\"text-align: right;\">\n",
       "      <th></th>\n",
       "      <th>height</th>\n",
       "      <th>weight</th>\n",
       "      <th>h_sc</th>\n",
       "      <th>w_sc</th>\n",
       "      <th>h_mima</th>\n",
       "      <th>w_mima</th>\n",
       "      <th>height_1</th>\n",
       "      <th>h_1_sc</th>\n",
       "      <th>h_1_mima</th>\n",
       "      <th>tall</th>\n",
       "    </tr>\n",
       "  </thead>\n",
       "  <tbody>\n",
       "    <tr>\n",
       "      <th>0</th>\n",
       "      <td>167.40</td>\n",
       "      <td>60.85</td>\n",
       "      <td>-0.631544</td>\n",
       "      <td>-0.853114</td>\n",
       "      <td>0.435821</td>\n",
       "      <td>0.388693</td>\n",
       "      <td>200.00</td>\n",
       "      <td>7.284605</td>\n",
       "      <td>1.000000</td>\n",
       "      <td>standard</td>\n",
       "    </tr>\n",
       "    <tr>\n",
       "      <th>1</th>\n",
       "      <td>174.12</td>\n",
       "      <td>57.45</td>\n",
       "      <td>1.043162</td>\n",
       "      <td>-1.553029</td>\n",
       "      <td>0.686567</td>\n",
       "      <td>0.268551</td>\n",
       "      <td>174.12</td>\n",
       "      <td>1.007374</td>\n",
       "      <td>0.415537</td>\n",
       "      <td>large</td>\n",
       "    </tr>\n",
       "    <tr>\n",
       "      <th>2</th>\n",
       "      <td>163.84</td>\n",
       "      <td>66.50</td>\n",
       "      <td>-1.518739</td>\n",
       "      <td>0.309980</td>\n",
       "      <td>0.302985</td>\n",
       "      <td>0.588339</td>\n",
       "      <td>163.84</td>\n",
       "      <td>-1.486054</td>\n",
       "      <td>0.183379</td>\n",
       "      <td>small</td>\n",
       "    </tr>\n",
       "    <tr>\n",
       "      <th>3</th>\n",
       "      <td>172.44</td>\n",
       "      <td>70.40</td>\n",
       "      <td>0.624486</td>\n",
       "      <td>1.112824</td>\n",
       "      <td>0.623881</td>\n",
       "      <td>0.726148</td>\n",
       "      <td>172.44</td>\n",
       "      <td>0.599888</td>\n",
       "      <td>0.377597</td>\n",
       "      <td>standard</td>\n",
       "    </tr>\n",
       "    <tr>\n",
       "      <th>4</th>\n",
       "      <td>167.16</td>\n",
       "      <td>65.15</td>\n",
       "      <td>-0.691355</td>\n",
       "      <td>0.032073</td>\n",
       "      <td>0.426866</td>\n",
       "      <td>0.540636</td>\n",
       "      <td>167.16</td>\n",
       "      <td>-0.680784</td>\n",
       "      <td>0.258356</td>\n",
       "      <td>standard</td>\n",
       "    </tr>\n",
       "    <tr>\n",
       "      <th>...</th>\n",
       "      <td>...</td>\n",
       "      <td>...</td>\n",
       "      <td>...</td>\n",
       "      <td>...</td>\n",
       "      <td>...</td>\n",
       "      <td>...</td>\n",
       "      <td>...</td>\n",
       "      <td>...</td>\n",
       "      <td>...</td>\n",
       "      <td>...</td>\n",
       "    </tr>\n",
       "    <tr>\n",
       "      <th>995</th>\n",
       "      <td>170.72</td>\n",
       "      <td>64.00</td>\n",
       "      <td>0.195841</td>\n",
       "      <td>-0.204663</td>\n",
       "      <td>0.559701</td>\n",
       "      <td>0.500000</td>\n",
       "      <td>170.72</td>\n",
       "      <td>0.182699</td>\n",
       "      <td>0.338753</td>\n",
       "      <td>standard</td>\n",
       "    </tr>\n",
       "    <tr>\n",
       "      <th>996</th>\n",
       "      <td>178.20</td>\n",
       "      <td>57.35</td>\n",
       "      <td>2.059948</td>\n",
       "      <td>-1.573615</td>\n",
       "      <td>0.838806</td>\n",
       "      <td>0.265018</td>\n",
       "      <td>178.20</td>\n",
       "      <td>1.996984</td>\n",
       "      <td>0.507678</td>\n",
       "      <td>large</td>\n",
       "    </tr>\n",
       "    <tr>\n",
       "      <th>997</th>\n",
       "      <td>165.52</td>\n",
       "      <td>64.40</td>\n",
       "      <td>-1.100063</td>\n",
       "      <td>-0.122320</td>\n",
       "      <td>0.365672</td>\n",
       "      <td>0.514134</td>\n",
       "      <td>165.52</td>\n",
       "      <td>-1.078568</td>\n",
       "      <td>0.221319</td>\n",
       "      <td>small</td>\n",
       "    </tr>\n",
       "    <tr>\n",
       "      <th>998</th>\n",
       "      <td>170.20</td>\n",
       "      <td>67.55</td>\n",
       "      <td>0.066251</td>\n",
       "      <td>0.526130</td>\n",
       "      <td>0.540299</td>\n",
       "      <td>0.625442</td>\n",
       "      <td>170.20</td>\n",
       "      <td>0.056573</td>\n",
       "      <td>0.327010</td>\n",
       "      <td>standard</td>\n",
       "    </tr>\n",
       "    <tr>\n",
       "      <th>999</th>\n",
       "      <td>171.08</td>\n",
       "      <td>77.50</td>\n",
       "      <td>0.285557</td>\n",
       "      <td>2.574411</td>\n",
       "      <td>0.573134</td>\n",
       "      <td>0.977032</td>\n",
       "      <td>171.08</td>\n",
       "      <td>0.270018</td>\n",
       "      <td>0.346883</td>\n",
       "      <td>standard</td>\n",
       "    </tr>\n",
       "  </tbody>\n",
       "</table>\n",
       "<p>1000 rows × 10 columns</p>\n",
       "</div>"
      ],
      "text/plain": [
       "     height  weight      h_sc      w_sc    h_mima    w_mima  height_1  \\\n",
       "0    167.40   60.85 -0.631544 -0.853114  0.435821  0.388693    200.00   \n",
       "1    174.12   57.45  1.043162 -1.553029  0.686567  0.268551    174.12   \n",
       "2    163.84   66.50 -1.518739  0.309980  0.302985  0.588339    163.84   \n",
       "3    172.44   70.40  0.624486  1.112824  0.623881  0.726148    172.44   \n",
       "4    167.16   65.15 -0.691355  0.032073  0.426866  0.540636    167.16   \n",
       "..      ...     ...       ...       ...       ...       ...       ...   \n",
       "995  170.72   64.00  0.195841 -0.204663  0.559701  0.500000    170.72   \n",
       "996  178.20   57.35  2.059948 -1.573615  0.838806  0.265018    178.20   \n",
       "997  165.52   64.40 -1.100063 -0.122320  0.365672  0.514134    165.52   \n",
       "998  170.20   67.55  0.066251  0.526130  0.540299  0.625442    170.20   \n",
       "999  171.08   77.50  0.285557  2.574411  0.573134  0.977032    171.08   \n",
       "\n",
       "       h_1_sc  h_1_mima      tall  \n",
       "0    7.284605  1.000000  standard  \n",
       "1    1.007374  0.415537     large  \n",
       "2   -1.486054  0.183379     small  \n",
       "3    0.599888  0.377597  standard  \n",
       "4   -0.680784  0.258356  standard  \n",
       "..        ...       ...       ...  \n",
       "995  0.182699  0.338753  standard  \n",
       "996  1.996984  0.507678     large  \n",
       "997 -1.078568  0.221319     small  \n",
       "998  0.056573  0.327010  standard  \n",
       "999  0.270018  0.346883  standard  \n",
       "\n",
       "[1000 rows x 10 columns]"
      ]
     },
     "execution_count": 30,
     "metadata": {},
     "output_type": "execute_result"
    }
   ],
   "source": [
    "# 키를 세 등급으로 나누는 방법 (표준편차를 기준으로)\n",
    "df.loc[df['height'] >= 174, 'tall'] = 'large'\n",
    "df.loc[(df['height'] < 174)&(df['height'] >= 166), 'tall'] = 'standard'\n",
    "df.loc[df['height'] < 166, 'tall'] = 'small'\n",
    "df"
   ]
  },
  {
   "cell_type": "code",
   "execution_count": 31,
   "metadata": {},
   "outputs": [
    {
     "data": {
      "text/plain": [
       "standard    679\n",
       "small       165\n",
       "large       156\n",
       "Name: tall, dtype: int64"
      ]
     },
     "execution_count": 31,
     "metadata": {},
     "output_type": "execute_result"
    }
   ],
   "source": [
    "# 카테고리 데이터의 구성비\n",
    "df['tall'].value_counts()"
   ]
  },
  {
   "cell_type": "code",
   "execution_count": 32,
   "metadata": {},
   "outputs": [
    {
     "data": {
      "text/plain": [
       "standard    67.9\n",
       "small       16.5\n",
       "large       15.6\n",
       "Name: tall, dtype: float64"
      ]
     },
     "execution_count": 32,
     "metadata": {},
     "output_type": "execute_result"
    }
   ],
   "source": [
    "# 구성 비율(%)\n",
    "df['tall'].value_counts()*100/len(df)"
   ]
  },
  {
   "cell_type": "markdown",
   "metadata": {},
   "source": [
    "### 원 핫 인코딩\n",
    "- 카테고리 변수는 일반적으로 원핫(one-hot) 인코딩으로 표현해야 계산에 사용하기 쉽다\n",
    " - 데이터 분석에서는 모든 카테고리 데이터('large', 'standard' 등)를 숫자로 바뀌어야 한다\n",
    "- pd.get_dummies() 사용"
   ]
  },
  {
   "cell_type": "code",
   "execution_count": 33,
   "metadata": {
    "colab": {},
    "colab_type": "code",
    "id": "ck1MdvnfSi4q"
   },
   "outputs": [
    {
     "data": {
      "text/html": [
       "<div>\n",
       "<style scoped>\n",
       "    .dataframe tbody tr th:only-of-type {\n",
       "        vertical-align: middle;\n",
       "    }\n",
       "\n",
       "    .dataframe tbody tr th {\n",
       "        vertical-align: top;\n",
       "    }\n",
       "\n",
       "    .dataframe thead th {\n",
       "        text-align: right;\n",
       "    }\n",
       "</style>\n",
       "<table border=\"1\" class=\"dataframe\">\n",
       "  <thead>\n",
       "    <tr style=\"text-align: right;\">\n",
       "      <th></th>\n",
       "      <th>large</th>\n",
       "      <th>small</th>\n",
       "      <th>standard</th>\n",
       "    </tr>\n",
       "  </thead>\n",
       "  <tbody>\n",
       "    <tr>\n",
       "      <th>0</th>\n",
       "      <td>0</td>\n",
       "      <td>0</td>\n",
       "      <td>1</td>\n",
       "    </tr>\n",
       "    <tr>\n",
       "      <th>1</th>\n",
       "      <td>1</td>\n",
       "      <td>0</td>\n",
       "      <td>0</td>\n",
       "    </tr>\n",
       "    <tr>\n",
       "      <th>2</th>\n",
       "      <td>0</td>\n",
       "      <td>1</td>\n",
       "      <td>0</td>\n",
       "    </tr>\n",
       "    <tr>\n",
       "      <th>3</th>\n",
       "      <td>0</td>\n",
       "      <td>0</td>\n",
       "      <td>1</td>\n",
       "    </tr>\n",
       "    <tr>\n",
       "      <th>4</th>\n",
       "      <td>0</td>\n",
       "      <td>0</td>\n",
       "      <td>1</td>\n",
       "    </tr>\n",
       "  </tbody>\n",
       "</table>\n",
       "</div>"
      ],
      "text/plain": [
       "   large  small  standard\n",
       "0      0      0         1\n",
       "1      1      0         0\n",
       "2      0      1         0\n",
       "3      0      0         1\n",
       "4      0      0         1"
      ]
     },
     "execution_count": 33,
     "metadata": {},
     "output_type": "execute_result"
    }
   ],
   "source": [
    "# 카테고리 변수의 원핫 인코딩 (데이터프레임을 만든다)\n",
    "df_tall = pd.get_dummies(df['tall'])\n",
    "df_tall[:5]"
   ]
  },
  {
   "cell_type": "code",
   "execution_count": 34,
   "metadata": {
    "colab": {},
    "colab_type": "code",
    "id": "NYLiNslKSi4z",
    "outputId": "6b465d26-0d06-44d5-8310-aa723e8fe7d0",
    "scrolled": false
   },
   "outputs": [
    {
     "data": {
      "text/html": [
       "<div>\n",
       "<style scoped>\n",
       "    .dataframe tbody tr th:only-of-type {\n",
       "        vertical-align: middle;\n",
       "    }\n",
       "\n",
       "    .dataframe tbody tr th {\n",
       "        vertical-align: top;\n",
       "    }\n",
       "\n",
       "    .dataframe thead th {\n",
       "        text-align: right;\n",
       "    }\n",
       "</style>\n",
       "<table border=\"1\" class=\"dataframe\">\n",
       "  <thead>\n",
       "    <tr style=\"text-align: right;\">\n",
       "      <th></th>\n",
       "      <th>height</th>\n",
       "      <th>weight</th>\n",
       "      <th>h_sc</th>\n",
       "      <th>w_sc</th>\n",
       "      <th>h_mima</th>\n",
       "      <th>w_mima</th>\n",
       "      <th>height_1</th>\n",
       "      <th>h_1_sc</th>\n",
       "      <th>h_1_mima</th>\n",
       "      <th>tall</th>\n",
       "      <th>large</th>\n",
       "      <th>small</th>\n",
       "      <th>standard</th>\n",
       "    </tr>\n",
       "  </thead>\n",
       "  <tbody>\n",
       "    <tr>\n",
       "      <th>0</th>\n",
       "      <td>167.40</td>\n",
       "      <td>60.85</td>\n",
       "      <td>-0.631544</td>\n",
       "      <td>-0.853114</td>\n",
       "      <td>0.435821</td>\n",
       "      <td>0.388693</td>\n",
       "      <td>200.00</td>\n",
       "      <td>7.284605</td>\n",
       "      <td>1.000000</td>\n",
       "      <td>standard</td>\n",
       "      <td>0</td>\n",
       "      <td>0</td>\n",
       "      <td>1</td>\n",
       "    </tr>\n",
       "    <tr>\n",
       "      <th>1</th>\n",
       "      <td>174.12</td>\n",
       "      <td>57.45</td>\n",
       "      <td>1.043162</td>\n",
       "      <td>-1.553029</td>\n",
       "      <td>0.686567</td>\n",
       "      <td>0.268551</td>\n",
       "      <td>174.12</td>\n",
       "      <td>1.007374</td>\n",
       "      <td>0.415537</td>\n",
       "      <td>large</td>\n",
       "      <td>1</td>\n",
       "      <td>0</td>\n",
       "      <td>0</td>\n",
       "    </tr>\n",
       "    <tr>\n",
       "      <th>2</th>\n",
       "      <td>163.84</td>\n",
       "      <td>66.50</td>\n",
       "      <td>-1.518739</td>\n",
       "      <td>0.309980</td>\n",
       "      <td>0.302985</td>\n",
       "      <td>0.588339</td>\n",
       "      <td>163.84</td>\n",
       "      <td>-1.486054</td>\n",
       "      <td>0.183379</td>\n",
       "      <td>small</td>\n",
       "      <td>0</td>\n",
       "      <td>1</td>\n",
       "      <td>0</td>\n",
       "    </tr>\n",
       "    <tr>\n",
       "      <th>3</th>\n",
       "      <td>172.44</td>\n",
       "      <td>70.40</td>\n",
       "      <td>0.624486</td>\n",
       "      <td>1.112824</td>\n",
       "      <td>0.623881</td>\n",
       "      <td>0.726148</td>\n",
       "      <td>172.44</td>\n",
       "      <td>0.599888</td>\n",
       "      <td>0.377597</td>\n",
       "      <td>standard</td>\n",
       "      <td>0</td>\n",
       "      <td>0</td>\n",
       "      <td>1</td>\n",
       "    </tr>\n",
       "    <tr>\n",
       "      <th>4</th>\n",
       "      <td>167.16</td>\n",
       "      <td>65.15</td>\n",
       "      <td>-0.691355</td>\n",
       "      <td>0.032073</td>\n",
       "      <td>0.426866</td>\n",
       "      <td>0.540636</td>\n",
       "      <td>167.16</td>\n",
       "      <td>-0.680784</td>\n",
       "      <td>0.258356</td>\n",
       "      <td>standard</td>\n",
       "      <td>0</td>\n",
       "      <td>0</td>\n",
       "      <td>1</td>\n",
       "    </tr>\n",
       "  </tbody>\n",
       "</table>\n",
       "</div>"
      ],
      "text/plain": [
       "   height  weight      h_sc      w_sc    h_mima    w_mima  height_1    h_1_sc  \\\n",
       "0  167.40   60.85 -0.631544 -0.853114  0.435821  0.388693    200.00  7.284605   \n",
       "1  174.12   57.45  1.043162 -1.553029  0.686567  0.268551    174.12  1.007374   \n",
       "2  163.84   66.50 -1.518739  0.309980  0.302985  0.588339    163.84 -1.486054   \n",
       "3  172.44   70.40  0.624486  1.112824  0.623881  0.726148    172.44  0.599888   \n",
       "4  167.16   65.15 -0.691355  0.032073  0.426866  0.540636    167.16 -0.680784   \n",
       "\n",
       "   h_1_mima      tall  large  small  standard  \n",
       "0  1.000000  standard      0      0         1  \n",
       "1  0.415537     large      1      0         0  \n",
       "2  0.183379     small      0      1         0  \n",
       "3  0.377597  standard      0      0         1  \n",
       "4  0.258356  standard      0      0         1  "
      ]
     },
     "execution_count": 34,
     "metadata": {},
     "output_type": "execute_result"
    }
   ],
   "source": [
    "# 원핫 인코딩된 데이터프레임 합치기 (가로 방향)\n",
    "df_all = pd.concat((df, df_tall), axis=1)\n",
    "df_all[:5]"
   ]
  },
  {
   "cell_type": "markdown",
   "metadata": {},
   "source": [
    "# 최종 사용 데이터\n",
    "- 여러가지 전처리된 데이터 컬럼중에서 필요한 부분만 선택하여 최종 데이터 분석에 사용한다\n",
    "- 예를 들어 아래와 같이 일부 컬럼만 선택할 수 있다"
   ]
  },
  {
   "cell_type": "code",
   "execution_count": 35,
   "metadata": {},
   "outputs": [
    {
     "data": {
      "text/plain": [
       "Index(['height', 'weight', 'h_sc', 'w_sc', 'h_mima', 'w_mima', 'height_1',\n",
       "       'h_1_sc', 'h_1_mima', 'tall', 'large', 'small', 'standard'],\n",
       "      dtype='object')"
      ]
     },
     "execution_count": 35,
     "metadata": {},
     "output_type": "execute_result"
    }
   ],
   "source": [
    "# 모든 컬럼명 보기\n",
    "df_all.columns"
   ]
  },
  {
   "cell_type": "code",
   "execution_count": 37,
   "metadata": {},
   "outputs": [
    {
     "data": {
      "text/html": [
       "<div>\n",
       "<style scoped>\n",
       "    .dataframe tbody tr th:only-of-type {\n",
       "        vertical-align: middle;\n",
       "    }\n",
       "\n",
       "    .dataframe tbody tr th {\n",
       "        vertical-align: top;\n",
       "    }\n",
       "\n",
       "    .dataframe thead th {\n",
       "        text-align: right;\n",
       "    }\n",
       "</style>\n",
       "<table border=\"1\" class=\"dataframe\">\n",
       "  <thead>\n",
       "    <tr style=\"text-align: right;\">\n",
       "      <th></th>\n",
       "      <th>h_sc</th>\n",
       "      <th>w_sc</th>\n",
       "      <th>large</th>\n",
       "      <th>small</th>\n",
       "      <th>standard</th>\n",
       "    </tr>\n",
       "  </thead>\n",
       "  <tbody>\n",
       "    <tr>\n",
       "      <th>0</th>\n",
       "      <td>-0.631544</td>\n",
       "      <td>-0.853114</td>\n",
       "      <td>0</td>\n",
       "      <td>0</td>\n",
       "      <td>1</td>\n",
       "    </tr>\n",
       "    <tr>\n",
       "      <th>1</th>\n",
       "      <td>1.043162</td>\n",
       "      <td>-1.553029</td>\n",
       "      <td>1</td>\n",
       "      <td>0</td>\n",
       "      <td>0</td>\n",
       "    </tr>\n",
       "    <tr>\n",
       "      <th>2</th>\n",
       "      <td>-1.518739</td>\n",
       "      <td>0.309980</td>\n",
       "      <td>0</td>\n",
       "      <td>1</td>\n",
       "      <td>0</td>\n",
       "    </tr>\n",
       "    <tr>\n",
       "      <th>3</th>\n",
       "      <td>0.624486</td>\n",
       "      <td>1.112824</td>\n",
       "      <td>0</td>\n",
       "      <td>0</td>\n",
       "      <td>1</td>\n",
       "    </tr>\n",
       "    <tr>\n",
       "      <th>4</th>\n",
       "      <td>-0.691355</td>\n",
       "      <td>0.032073</td>\n",
       "      <td>0</td>\n",
       "      <td>0</td>\n",
       "      <td>1</td>\n",
       "    </tr>\n",
       "  </tbody>\n",
       "</table>\n",
       "</div>"
      ],
      "text/plain": [
       "       h_sc      w_sc  large  small  standard\n",
       "0 -0.631544 -0.853114      0      0         1\n",
       "1  1.043162 -1.553029      1      0         0\n",
       "2 -1.518739  0.309980      0      1         0\n",
       "3  0.624486  1.112824      0      0         1\n",
       "4 -0.691355  0.032073      0      0         1"
      ]
     },
     "execution_count": 37,
     "metadata": {},
     "output_type": "execute_result"
    }
   ],
   "source": [
    "# 분석에 사용할 컬럼들을 선택\n",
    "X = df_all[['h_sc', 'w_sc', 'large', 'small', 'standard']]\n",
    "X[:5]"
   ]
  },
  {
   "cell_type": "code",
   "execution_count": null,
   "metadata": {},
   "outputs": [],
   "source": []
  }
 ],
 "metadata": {
  "colab": {
   "collapsed_sections": [],
   "name": "g_06_범주형코딩_스케일링.ipynb",
   "provenance": []
  },
  "kernelspec": {
   "display_name": "Python 3",
   "language": "python",
   "name": "python3"
  },
  "language_info": {
   "codemirror_mode": {
    "name": "ipython",
    "version": 3
   },
   "file_extension": ".py",
   "mimetype": "text/x-python",
   "name": "python",
   "nbconvert_exporter": "python",
   "pygments_lexer": "ipython3",
   "version": "3.8.8"
  },
  "toc": {
   "base_numbering": 1,
   "nav_menu": {},
   "number_sections": false,
   "sideBar": true,
   "skip_h1_title": false,
   "title_cell": "Table of Contents",
   "title_sidebar": "Contents",
   "toc_cell": false,
   "toc_position": {
    "height": "calc(100% - 180px)",
    "left": "10px",
    "top": "150px",
    "width": "165px"
   },
   "toc_section_display": true,
   "toc_window_display": false
  }
 },
 "nbformat": 4,
 "nbformat_minor": 1
}
